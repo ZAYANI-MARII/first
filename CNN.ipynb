{
  "nbformat": 4,
  "nbformat_minor": 0,
  "metadata": {
    "colab": {
      "provenance": [],
      "authorship_tag": "ABX9TyPXzvpkAcJnmqaR+m3DUjPF",
      "include_colab_link": true
    },
    "kernelspec": {
      "name": "python3",
      "display_name": "Python 3"
    },
    "language_info": {
      "name": "python"
    }
  },
  "cells": [
    {
      "cell_type": "markdown",
      "metadata": {
        "id": "view-in-github",
        "colab_type": "text"
      },
      "source": [
        "<a href=\"https://colab.research.google.com/github/ZAYANI-MARII/first/blob/main/CNN.ipynb\" target=\"_parent\"><img src=\"https://colab.research.google.com/assets/colab-badge.svg\" alt=\"Open In Colab\"/></a>"
      ]
    },
    {
      "cell_type": "code",
      "execution_count": null,
      "metadata": {
        "id": "q4qPPHGhDbQg"
      },
      "outputs": [],
      "source": []
    },
    {
      "cell_type": "markdown",
      "source": [
        "IN this section, we will define a convolutional neurol network for SAR image classification.\n",
        "The model receives 128X128 grayscale pixels as inputs. Then has a sequence of three convolutional and pooling layers as features extrators, followed by a fully connected layer to interpret the features and to dense layer of 128 neurons finally an output layer with a softmax activation for 10 classes predections."
      ],
      "metadata": {
        "id": "-tjb_XVdF2vK"
      }
    },
    {
      "cell_type": "markdown",
      "source": [
        "\n",
        "\n",
        "1.   IMPORT **LYBRARYS**\n",
        "\n",
        "\n"
      ],
      "metadata": {
        "id": "_n-SwoN_HkPQ"
      }
    },
    {
      "cell_type": "code",
      "source": [
        "from keras.utils import plot_model"
      ],
      "metadata": {
        "id": "Bl8wSSDYHtez"
      },
      "execution_count": null,
      "outputs": []
    }
  ]
}